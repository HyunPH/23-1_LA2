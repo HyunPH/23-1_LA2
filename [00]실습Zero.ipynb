{
  "nbformat": 4,
  "nbformat_minor": 0,
  "metadata": {
    "colab": {
      "provenance": [],
      "mount_file_id": "1oi8QtzsQqBu3TZKi8M13Fs-jAuByaEDy",
      "authorship_tag": "ABX9TyMvvX5iFuYkuJvBj7lQ/MPI",
      "include_colab_link": true
    },
    "kernelspec": {
      "name": "python3",
      "display_name": "Python 3"
    },
    "language_info": {
      "name": "python"
    }
  },
  "cells": [
    {
      "cell_type": "markdown",
      "metadata": {
        "id": "view-in-github",
        "colab_type": "text"
      },
      "source": [
        "<a href=\"https://colab.research.google.com/github/HyunPH/23-1_LA2/blob/main/%5B00%5D%EC%8B%A4%EC%8A%B5Zero.ipynb\" target=\"_parent\"><img src=\"https://colab.research.google.com/assets/colab-badge.svg\" alt=\"Open In Colab\"/></a>"
      ]
    },
    {
      "cell_type": "code",
      "execution_count": 7,
      "metadata": {
        "id": "9hnL1PHX8hIa",
        "colab": {
          "base_uri": "https://localhost:8080/"
        },
        "outputId": "dc0ae499-2ec0-425b-ad7b-c38c85fcef34"
      },
      "outputs": [
        {
          "output_type": "stream",
          "name": "stdout",
          "text": [
            "Hello world\n"
          ]
        }
      ],
      "source": [
        "print(\"Hello world\")"
      ]
    },
    {
      "cell_type": "markdown",
      "source": [
        "라이브러리(패키지) 로드드"
      ],
      "metadata": {
        "id": "j9uGzzKBKO2h"
      }
    },
    {
      "cell_type": "code",
      "source": [
        "import numpy as np"
      ],
      "metadata": {
        "id": "vKvKUm30JiYg"
      },
      "execution_count": 6,
      "outputs": []
    },
    {
      "cell_type": "markdown",
      "source": [
        "프린트"
      ],
      "metadata": {
        "id": "ikR5_BTIKWUl"
      }
    },
    {
      "cell_type": "code",
      "source": [
        "def print_val(x):\n",
        "  print(\"Type :\", type(x))\n",
        "  print(\"Shape :\", x.shape)\n",
        "  print(\"value:\\n\", x)\n",
        "  print(\" \")"
      ],
      "metadata": {
        "id": "lAAWMpZxKBGz"
      },
      "execution_count": 11,
      "outputs": []
    },
    {
      "cell_type": "code",
      "source": [
        "x = np.array([1,2,3])\n",
        "print_val(x)\n",
        "\n",
        "x[0] = 5\n",
        "print_val(x)"
      ],
      "metadata": {
        "colab": {
          "base_uri": "https://localhost:8080/"
        },
        "id": "SXN5LfKwKurQ",
        "outputId": "a5b626e3-11bc-43e6-cb62-21d5e7d8869e"
      },
      "execution_count": 14,
      "outputs": [
        {
          "output_type": "stream",
          "name": "stdout",
          "text": [
            "Type : <class 'numpy.ndarray'>\n",
            "Shape : (3,)\n",
            "value:\n",
            " [1 2 3]\n",
            " \n",
            "Type : <class 'numpy.ndarray'>\n",
            "Shape : (3,)\n",
            "value:\n",
            " [5 2 3]\n",
            " \n"
          ]
        }
      ]
    },
    {
      "cell_type": "code",
      "source": [
        "y = np.array([[1,2,3], [4,5,6]])\n",
        "print_val(y)"
      ],
      "metadata": {
        "colab": {
          "base_uri": "https://localhost:8080/"
        },
        "id": "xgG0FJWELTMV",
        "outputId": "397345b5-cd17-40e1-861e-dab245711fee"
      },
      "execution_count": 16,
      "outputs": [
        {
          "output_type": "stream",
          "name": "stdout",
          "text": [
            "Type : <class 'numpy.ndarray'>\n",
            "Shape : (2, 3)\n",
            "value:\n",
            " [[1 2 3]\n",
            " [4 5 6]]\n",
            " \n"
          ]
        }
      ]
    },
    {
      "cell_type": "code",
      "source": [
        "a = np.zeros((2,2))\n",
        "print_val(a)"
      ],
      "metadata": {
        "colab": {
          "base_uri": "https://localhost:8080/"
        },
        "id": "etP11eYiLePf",
        "outputId": "d0995671-1e2b-47db-96dd-3a14e2eefdb0"
      },
      "execution_count": 17,
      "outputs": [
        {
          "output_type": "stream",
          "name": "stdout",
          "text": [
            "Type : <class 'numpy.ndarray'>\n",
            "Shape : (2, 2)\n",
            "value:\n",
            " [[0. 0.]\n",
            " [0. 0.]]\n",
            " \n"
          ]
        }
      ]
    },
    {
      "cell_type": "code",
      "source": [
        "a = np.ones((3,2))\n",
        "print_val(a)"
      ],
      "metadata": {
        "colab": {
          "base_uri": "https://localhost:8080/"
        },
        "id": "PPSNPpT-Lr3I",
        "outputId": "5ef4016a-66fc-469c-e406-3a59bc3f1cfa"
      },
      "execution_count": 18,
      "outputs": [
        {
          "output_type": "stream",
          "name": "stdout",
          "text": [
            "Type : <class 'numpy.ndarray'>\n",
            "Shape : (3, 2)\n",
            "value:\n",
            " [[1. 1.]\n",
            " [1. 1.]\n",
            " [1. 1.]]\n",
            " \n"
          ]
        }
      ]
    },
    {
      "cell_type": "markdown",
      "source": [
        "단위 행렬(identity matrix)"
      ],
      "metadata": {
        "id": "Mcj1GWpXL781"
      }
    },
    {
      "cell_type": "code",
      "source": [
        "a = np.eye(3,3)\n",
        "print_val(a)"
      ],
      "metadata": {
        "colab": {
          "base_uri": "https://localhost:8080/"
        },
        "id": "xaErfr1LLyPK",
        "outputId": "6d6b9ca6-a330-406a-d49b-3ecd41558b74"
      },
      "execution_count": 22,
      "outputs": [
        {
          "output_type": "stream",
          "name": "stdout",
          "text": [
            "Type : <class 'numpy.ndarray'>\n",
            "Shape : (3, 3)\n",
            "value:\n",
            " [[1. 0. 0.]\n",
            " [0. 1. 0.]\n",
            " [0. 0. 1.]]\n",
            " \n"
          ]
        }
      ]
    },
    {
      "cell_type": "markdown",
      "source": [
        "**랜덤행렬**"
      ],
      "metadata": {
        "id": "P0Hbu1m3MdEq"
      }
    },
    {
      "cell_type": "code",
      "source": [
        "a = np.random.random((4,4))\n",
        "print_val(a)"
      ],
      "metadata": {
        "colab": {
          "base_uri": "https://localhost:8080/"
        },
        "id": "-KbbKwO_L3X8",
        "outputId": "4b849771-0ad5-4605-f3c4-a74a34af3396"
      },
      "execution_count": 23,
      "outputs": [
        {
          "output_type": "stream",
          "name": "stdout",
          "text": [
            "Type : <class 'numpy.ndarray'>\n",
            "Shape : (4, 4)\n",
            "value:\n",
            " [[0.59297487 0.46988811 0.19278455 0.58245636]\n",
            " [0.20939561 0.76910912 0.60333012 0.85050175]\n",
            " [0.87262148 0.2998489  0.37267887 0.11881891]\n",
            " [0.25978805 0.07578895 0.87404346 0.15542815]]\n",
            " \n"
          ]
        }
      ]
    },
    {
      "cell_type": "code",
      "source": [
        "a = np.random.random((4,4))\n",
        "print_val(a)"
      ],
      "metadata": {
        "colab": {
          "base_uri": "https://localhost:8080/"
        },
        "id": "4tUfrI8gMYGu",
        "outputId": "31056373-944b-47d8-f85e-a4751fb1eff3"
      },
      "execution_count": 24,
      "outputs": [
        {
          "output_type": "stream",
          "name": "stdout",
          "text": [
            "Type : <class 'numpy.ndarray'>\n",
            "Shape : (4, 4)\n",
            "value:\n",
            " [[0.07224855 0.58215219 0.78734589 0.84063548]\n",
            " [0.87948315 0.23120373 0.6616422  0.44475863]\n",
            " [0.52268073 0.80939161 0.76876191 0.43247892]\n",
            " [0.79945077 0.86394191 0.18336513 0.64309446]]\n",
            " \n"
          ]
        }
      ]
    },
    {
      "cell_type": "markdown",
      "source": [
        "indexing"
      ],
      "metadata": {
        "id": "sA_b2z8MNdEy"
      }
    },
    {
      "cell_type": "code",
      "source": [
        "a = np.array([[1,2,3,4], [5,6,7,8], [9,10,11,12]])\n",
        "print_val(a)"
      ],
      "metadata": {
        "colab": {
          "base_uri": "https://localhost:8080/"
        },
        "id": "-rThE_tzMlSO",
        "outputId": "5b043e4a-152e-41fe-d415-e8433e04b390"
      },
      "execution_count": 25,
      "outputs": [
        {
          "output_type": "stream",
          "name": "stdout",
          "text": [
            "Type : <class 'numpy.ndarray'>\n",
            "Shape : (3, 4)\n",
            "value:\n",
            " [[ 1  2  3  4]\n",
            " [ 5  6  7  8]\n",
            " [ 9 10 11 12]]\n",
            " \n"
          ]
        }
      ]
    },
    {
      "cell_type": "code",
      "source": [
        "b = a[:2, 1:3]\n",
        "print_val(b)"
      ],
      "metadata": {
        "colab": {
          "base_uri": "https://localhost:8080/"
        },
        "id": "GxNrKT7ENCA4",
        "outputId": "4aa04022-8151-4b0b-c3c5-c038c2fd4fa2"
      },
      "execution_count": 26,
      "outputs": [
        {
          "output_type": "stream",
          "name": "stdout",
          "text": [
            "Type : <class 'numpy.ndarray'>\n",
            "Shape : (2, 2)\n",
            "value:\n",
            " [[2 3]\n",
            " [6 7]]\n",
            " \n"
          ]
        }
      ]
    },
    {
      "cell_type": "code",
      "source": [
        "row1 = a[1, :]\n",
        "print_val(row1)"
      ],
      "metadata": {
        "colab": {
          "base_uri": "https://localhost:8080/"
        },
        "id": "yGEwfZxlNN_O",
        "outputId": "eb86b9eb-e98b-4549-d002-4fb275182430"
      },
      "execution_count": 27,
      "outputs": [
        {
          "output_type": "stream",
          "name": "stdout",
          "text": [
            "Type : <class 'numpy.ndarray'>\n",
            "Shape : (4,)\n",
            "value:\n",
            " [5 6 7 8]\n",
            " \n"
          ]
        }
      ]
    },
    {
      "cell_type": "markdown",
      "source": [
        "행렬 원소별 연산"
      ],
      "metadata": {
        "id": "Tmljk6-zNulU"
      }
    },
    {
      "cell_type": "code",
      "source": [
        "m1 = np.array([[1,2], [3,4]], dtype = np.float64)\n",
        "m2 = np.array([[5,6], [7,8]], dtype = np.float64)"
      ],
      "metadata": {
        "id": "c38q1lEPNX51"
      },
      "execution_count": 28,
      "outputs": []
    },
    {
      "cell_type": "code",
      "source": [
        "print_val(m1 + m2)\n",
        "print_val(np.add(m1, m2)) # add, sub, mul, div, sqrt, ..."
      ],
      "metadata": {
        "colab": {
          "base_uri": "https://localhost:8080/"
        },
        "id": "npUQEieEN8fn",
        "outputId": "d38bbe44-dae5-4789-9ea9-0c08b56484e4"
      },
      "execution_count": 30,
      "outputs": [
        {
          "output_type": "stream",
          "name": "stdout",
          "text": [
            "Type : <class 'numpy.ndarray'>\n",
            "Shape : (2, 2)\n",
            "value:\n",
            " [[ 6.  8.]\n",
            " [10. 12.]]\n",
            " \n",
            "Type : <class 'numpy.ndarray'>\n",
            "Shape : (2, 2)\n",
            "value:\n",
            " [[ 6.  8.]\n",
            " [10. 12.]]\n",
            " \n"
          ]
        }
      ]
    },
    {
      "cell_type": "code",
      "source": [],
      "metadata": {
        "id": "Lovy_jR2OC9Z"
      },
      "execution_count": null,
      "outputs": []
    }
  ]
}